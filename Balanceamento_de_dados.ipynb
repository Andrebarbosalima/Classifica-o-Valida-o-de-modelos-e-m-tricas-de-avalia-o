{
  "nbformat": 4,
  "nbformat_minor": 0,
  "metadata": {
    "colab": {
      "provenance": [],
      "include_colab_link": true
    },
    "kernelspec": {
      "name": "python3",
      "display_name": "Python 3"
    },
    "language_info": {
      "name": "python"
    }
  },
  "cells": [
    {
      "cell_type": "markdown",
      "metadata": {
        "id": "view-in-github",
        "colab_type": "text"
      },
      "source": [
        "<a href=\"https://colab.research.google.com/github/Andrebarbosalima/Classifica-o-Valida-o-de-modelos-e-m-tricas-de-avalia-o/blob/main/Balanceamento_de_dados.ipynb\" target=\"_parent\"><img src=\"https://colab.research.google.com/assets/colab-badge.svg\" alt=\"Open In Colab\"/></a>"
      ]
    },
    {
      "cell_type": "markdown",
      "source": [
        "# <font color='dark'>**Classificação: Validação de modelos e métricas de avaliação**</h1>"
      ],
      "metadata": {
        "id": "MCqTDybk4ShK"
      }
    },
    {
      "cell_type": "markdown",
      "source": [
        "### Projeto\n",
        "\n",
        "Uma empresa de empréstimo de automóveis está passando por uma situação complicada, com alta demanda para uma frota reduzida de veículos e alto número de inadimplentes, trazendo um prejuízo grande para a empresa.\n",
        "\n",
        "Nós fomos contratados para buscar melhorias na identificação de inadimplentes. A análise dos clientes atualmente é feita de forma manual, cliente por cliente, tomando muito tempo e ainda assim a detecção de inadimplentes é muito imprecisa.\n",
        "\n",
        "Nossa tarefa é utilizar os dados fornecidos pela empresa para **classificar** os clientes em adimplentes e inadimplentes."
      ],
      "metadata": {
        "id": "WscU3KG7a9No"
      }
    },
    {
      "cell_type": "markdown",
      "source": [
        "## <font color='dark'>Classificando dados</h1>"
      ],
      "metadata": {
        "id": "WgS8iF51Csrn"
      }
    },
    {
      "cell_type": "markdown",
      "source": [
        "### Criando um modelo inicial"
      ],
      "metadata": {
        "id": "6lExmBuKn-xe"
      }
    },
    {
      "cell_type": "code",
      "execution_count": 1,
      "metadata": {
        "id": "ZP9giPwL7Qvz"
      },
      "outputs": [],
      "source": [
        "import pandas as pd"
      ]
    },
    {
      "cell_type": "code",
      "source": [
        "dados = pd.read_csv('/content/emp_automovel.csv')"
      ],
      "metadata": {
        "id": "w1MaIGaj7UZL"
      },
      "execution_count": 2,
      "outputs": []
    },
    {
      "cell_type": "code",
      "source": [
        "dados"
      ],
      "metadata": {
        "id": "ef4aPUAHkyLQ",
        "colab": {
          "base_uri": "https://localhost:8080/",
          "height": 443
        },
        "outputId": "a6046450-f663-4751-a0f1-0918a41d2920"
      },
      "execution_count": 3,
      "outputs": [
        {
          "output_type": "execute_result",
          "data": {
            "text/plain": [
              "       receita_cliente  anuidade_emprestimo  anos_casa_propria  telefone_trab  \\\n",
              "0         12600.000000          3569.400000          12.157324              1   \n",
              "1          9000.000000          2722.188351           7.000000              0   \n",
              "2         15750.000000          4477.500000          12.000000              0   \n",
              "3          9000.000000          1309.050000          12.157324              0   \n",
              "4          7650.000000          1125.000000          12.157324              0   \n",
              "...                ...                  ...                ...            ...   \n",
              "54020     16855.246324           675.000000          12.157324              1   \n",
              "54021     11250.000000           675.000000          14.000000              0   \n",
              "54022     13500.000000           900.000000          64.000000              0   \n",
              "54023     11250.000000          2371.500000          12.157324              0   \n",
              "54024     21060.000000          2459.250000          12.157324              0   \n",
              "\n",
              "       avaliacao_cidade   score_1   score_2   score_3  score_social  \\\n",
              "0                   2.0  0.057153  0.527227  0.513171      0.117428   \n",
              "1                   2.0  0.657661  0.285898  0.614414      0.222700   \n",
              "2                   2.0  0.501213  0.695423  0.513171      0.117428   \n",
              "3                   3.0  0.501213  0.155973  0.513171      0.117428   \n",
              "4                   2.0  0.294328  0.152076  0.513171      0.117428   \n",
              "...                 ...       ...       ...       ...           ...   \n",
              "54020               2.0  0.501213  0.180635  0.513171      0.082500   \n",
              "54021               3.0  0.409620  0.606002  0.513171      0.117428   \n",
              "54022               2.0  0.162632  0.525412  0.513171      0.117428   \n",
              "54023               3.0  0.501213  0.664027  0.513171      0.117428   \n",
              "54024               2.0  0.339656  0.656468  0.513171      0.117428   \n",
              "\n",
              "       troca_telefone  inadimplente  \n",
              "0         2545.000000             0  \n",
              "1          495.000000             0  \n",
              "2         1212.000000             0  \n",
              "3          515.000000             0  \n",
              "4          162.000000             0  \n",
              "...               ...           ...  \n",
              "54020        0.000000             1  \n",
              "54021      466.000000             1  \n",
              "54022      962.106056             1  \n",
              "54023      482.000000             1  \n",
              "54024        0.000000             1  \n",
              "\n",
              "[54025 rows x 11 columns]"
            ],
            "text/html": [
              "\n",
              "  <div id=\"df-ac6565cb-0dd8-48d9-ae2b-a5c20d17af69\" class=\"colab-df-container\">\n",
              "    <div>\n",
              "<style scoped>\n",
              "    .dataframe tbody tr th:only-of-type {\n",
              "        vertical-align: middle;\n",
              "    }\n",
              "\n",
              "    .dataframe tbody tr th {\n",
              "        vertical-align: top;\n",
              "    }\n",
              "\n",
              "    .dataframe thead th {\n",
              "        text-align: right;\n",
              "    }\n",
              "</style>\n",
              "<table border=\"1\" class=\"dataframe\">\n",
              "  <thead>\n",
              "    <tr style=\"text-align: right;\">\n",
              "      <th></th>\n",
              "      <th>receita_cliente</th>\n",
              "      <th>anuidade_emprestimo</th>\n",
              "      <th>anos_casa_propria</th>\n",
              "      <th>telefone_trab</th>\n",
              "      <th>avaliacao_cidade</th>\n",
              "      <th>score_1</th>\n",
              "      <th>score_2</th>\n",
              "      <th>score_3</th>\n",
              "      <th>score_social</th>\n",
              "      <th>troca_telefone</th>\n",
              "      <th>inadimplente</th>\n",
              "    </tr>\n",
              "  </thead>\n",
              "  <tbody>\n",
              "    <tr>\n",
              "      <th>0</th>\n",
              "      <td>12600.000000</td>\n",
              "      <td>3569.400000</td>\n",
              "      <td>12.157324</td>\n",
              "      <td>1</td>\n",
              "      <td>2.0</td>\n",
              "      <td>0.057153</td>\n",
              "      <td>0.527227</td>\n",
              "      <td>0.513171</td>\n",
              "      <td>0.117428</td>\n",
              "      <td>2545.000000</td>\n",
              "      <td>0</td>\n",
              "    </tr>\n",
              "    <tr>\n",
              "      <th>1</th>\n",
              "      <td>9000.000000</td>\n",
              "      <td>2722.188351</td>\n",
              "      <td>7.000000</td>\n",
              "      <td>0</td>\n",
              "      <td>2.0</td>\n",
              "      <td>0.657661</td>\n",
              "      <td>0.285898</td>\n",
              "      <td>0.614414</td>\n",
              "      <td>0.222700</td>\n",
              "      <td>495.000000</td>\n",
              "      <td>0</td>\n",
              "    </tr>\n",
              "    <tr>\n",
              "      <th>2</th>\n",
              "      <td>15750.000000</td>\n",
              "      <td>4477.500000</td>\n",
              "      <td>12.000000</td>\n",
              "      <td>0</td>\n",
              "      <td>2.0</td>\n",
              "      <td>0.501213</td>\n",
              "      <td>0.695423</td>\n",
              "      <td>0.513171</td>\n",
              "      <td>0.117428</td>\n",
              "      <td>1212.000000</td>\n",
              "      <td>0</td>\n",
              "    </tr>\n",
              "    <tr>\n",
              "      <th>3</th>\n",
              "      <td>9000.000000</td>\n",
              "      <td>1309.050000</td>\n",
              "      <td>12.157324</td>\n",
              "      <td>0</td>\n",
              "      <td>3.0</td>\n",
              "      <td>0.501213</td>\n",
              "      <td>0.155973</td>\n",
              "      <td>0.513171</td>\n",
              "      <td>0.117428</td>\n",
              "      <td>515.000000</td>\n",
              "      <td>0</td>\n",
              "    </tr>\n",
              "    <tr>\n",
              "      <th>4</th>\n",
              "      <td>7650.000000</td>\n",
              "      <td>1125.000000</td>\n",
              "      <td>12.157324</td>\n",
              "      <td>0</td>\n",
              "      <td>2.0</td>\n",
              "      <td>0.294328</td>\n",
              "      <td>0.152076</td>\n",
              "      <td>0.513171</td>\n",
              "      <td>0.117428</td>\n",
              "      <td>162.000000</td>\n",
              "      <td>0</td>\n",
              "    </tr>\n",
              "    <tr>\n",
              "      <th>...</th>\n",
              "      <td>...</td>\n",
              "      <td>...</td>\n",
              "      <td>...</td>\n",
              "      <td>...</td>\n",
              "      <td>...</td>\n",
              "      <td>...</td>\n",
              "      <td>...</td>\n",
              "      <td>...</td>\n",
              "      <td>...</td>\n",
              "      <td>...</td>\n",
              "      <td>...</td>\n",
              "    </tr>\n",
              "    <tr>\n",
              "      <th>54020</th>\n",
              "      <td>16855.246324</td>\n",
              "      <td>675.000000</td>\n",
              "      <td>12.157324</td>\n",
              "      <td>1</td>\n",
              "      <td>2.0</td>\n",
              "      <td>0.501213</td>\n",
              "      <td>0.180635</td>\n",
              "      <td>0.513171</td>\n",
              "      <td>0.082500</td>\n",
              "      <td>0.000000</td>\n",
              "      <td>1</td>\n",
              "    </tr>\n",
              "    <tr>\n",
              "      <th>54021</th>\n",
              "      <td>11250.000000</td>\n",
              "      <td>675.000000</td>\n",
              "      <td>14.000000</td>\n",
              "      <td>0</td>\n",
              "      <td>3.0</td>\n",
              "      <td>0.409620</td>\n",
              "      <td>0.606002</td>\n",
              "      <td>0.513171</td>\n",
              "      <td>0.117428</td>\n",
              "      <td>466.000000</td>\n",
              "      <td>1</td>\n",
              "    </tr>\n",
              "    <tr>\n",
              "      <th>54022</th>\n",
              "      <td>13500.000000</td>\n",
              "      <td>900.000000</td>\n",
              "      <td>64.000000</td>\n",
              "      <td>0</td>\n",
              "      <td>2.0</td>\n",
              "      <td>0.162632</td>\n",
              "      <td>0.525412</td>\n",
              "      <td>0.513171</td>\n",
              "      <td>0.117428</td>\n",
              "      <td>962.106056</td>\n",
              "      <td>1</td>\n",
              "    </tr>\n",
              "    <tr>\n",
              "      <th>54023</th>\n",
              "      <td>11250.000000</td>\n",
              "      <td>2371.500000</td>\n",
              "      <td>12.157324</td>\n",
              "      <td>0</td>\n",
              "      <td>3.0</td>\n",
              "      <td>0.501213</td>\n",
              "      <td>0.664027</td>\n",
              "      <td>0.513171</td>\n",
              "      <td>0.117428</td>\n",
              "      <td>482.000000</td>\n",
              "      <td>1</td>\n",
              "    </tr>\n",
              "    <tr>\n",
              "      <th>54024</th>\n",
              "      <td>21060.000000</td>\n",
              "      <td>2459.250000</td>\n",
              "      <td>12.157324</td>\n",
              "      <td>0</td>\n",
              "      <td>2.0</td>\n",
              "      <td>0.339656</td>\n",
              "      <td>0.656468</td>\n",
              "      <td>0.513171</td>\n",
              "      <td>0.117428</td>\n",
              "      <td>0.000000</td>\n",
              "      <td>1</td>\n",
              "    </tr>\n",
              "  </tbody>\n",
              "</table>\n",
              "<p>54025 rows × 11 columns</p>\n",
              "</div>\n",
              "    <div class=\"colab-df-buttons\">\n",
              "\n",
              "  <div class=\"colab-df-container\">\n",
              "    <button class=\"colab-df-convert\" onclick=\"convertToInteractive('df-ac6565cb-0dd8-48d9-ae2b-a5c20d17af69')\"\n",
              "            title=\"Convert this dataframe to an interactive table.\"\n",
              "            style=\"display:none;\">\n",
              "\n",
              "  <svg xmlns=\"http://www.w3.org/2000/svg\" height=\"24px\" viewBox=\"0 -960 960 960\">\n",
              "    <path d=\"M120-120v-720h720v720H120Zm60-500h600v-160H180v160Zm220 220h160v-160H400v160Zm0 220h160v-160H400v160ZM180-400h160v-160H180v160Zm440 0h160v-160H620v160ZM180-180h160v-160H180v160Zm440 0h160v-160H620v160Z\"/>\n",
              "  </svg>\n",
              "    </button>\n",
              "\n",
              "  <style>\n",
              "    .colab-df-container {\n",
              "      display:flex;\n",
              "      gap: 12px;\n",
              "    }\n",
              "\n",
              "    .colab-df-convert {\n",
              "      background-color: #E8F0FE;\n",
              "      border: none;\n",
              "      border-radius: 50%;\n",
              "      cursor: pointer;\n",
              "      display: none;\n",
              "      fill: #1967D2;\n",
              "      height: 32px;\n",
              "      padding: 0 0 0 0;\n",
              "      width: 32px;\n",
              "    }\n",
              "\n",
              "    .colab-df-convert:hover {\n",
              "      background-color: #E2EBFA;\n",
              "      box-shadow: 0px 1px 2px rgba(60, 64, 67, 0.3), 0px 1px 3px 1px rgba(60, 64, 67, 0.15);\n",
              "      fill: #174EA6;\n",
              "    }\n",
              "\n",
              "    .colab-df-buttons div {\n",
              "      margin-bottom: 4px;\n",
              "    }\n",
              "\n",
              "    [theme=dark] .colab-df-convert {\n",
              "      background-color: #3B4455;\n",
              "      fill: #D2E3FC;\n",
              "    }\n",
              "\n",
              "    [theme=dark] .colab-df-convert:hover {\n",
              "      background-color: #434B5C;\n",
              "      box-shadow: 0px 1px 3px 1px rgba(0, 0, 0, 0.15);\n",
              "      filter: drop-shadow(0px 1px 2px rgba(0, 0, 0, 0.3));\n",
              "      fill: #FFFFFF;\n",
              "    }\n",
              "  </style>\n",
              "\n",
              "    <script>\n",
              "      const buttonEl =\n",
              "        document.querySelector('#df-ac6565cb-0dd8-48d9-ae2b-a5c20d17af69 button.colab-df-convert');\n",
              "      buttonEl.style.display =\n",
              "        google.colab.kernel.accessAllowed ? 'block' : 'none';\n",
              "\n",
              "      async function convertToInteractive(key) {\n",
              "        const element = document.querySelector('#df-ac6565cb-0dd8-48d9-ae2b-a5c20d17af69');\n",
              "        const dataTable =\n",
              "          await google.colab.kernel.invokeFunction('convertToInteractive',\n",
              "                                                    [key], {});\n",
              "        if (!dataTable) return;\n",
              "\n",
              "        const docLinkHtml = 'Like what you see? Visit the ' +\n",
              "          '<a target=\"_blank\" href=https://colab.research.google.com/notebooks/data_table.ipynb>data table notebook</a>'\n",
              "          + ' to learn more about interactive tables.';\n",
              "        element.innerHTML = '';\n",
              "        dataTable['output_type'] = 'display_data';\n",
              "        await google.colab.output.renderOutput(dataTable, element);\n",
              "        const docLink = document.createElement('div');\n",
              "        docLink.innerHTML = docLinkHtml;\n",
              "        element.appendChild(docLink);\n",
              "      }\n",
              "    </script>\n",
              "  </div>\n",
              "\n",
              "\n",
              "<div id=\"df-a13ec948-7984-4b21-b421-0185dd6fc215\">\n",
              "  <button class=\"colab-df-quickchart\" onclick=\"quickchart('df-a13ec948-7984-4b21-b421-0185dd6fc215')\"\n",
              "            title=\"Suggest charts\"\n",
              "            style=\"display:none;\">\n",
              "\n",
              "<svg xmlns=\"http://www.w3.org/2000/svg\" height=\"24px\"viewBox=\"0 0 24 24\"\n",
              "     width=\"24px\">\n",
              "    <g>\n",
              "        <path d=\"M19 3H5c-1.1 0-2 .9-2 2v14c0 1.1.9 2 2 2h14c1.1 0 2-.9 2-2V5c0-1.1-.9-2-2-2zM9 17H7v-7h2v7zm4 0h-2V7h2v10zm4 0h-2v-4h2v4z\"/>\n",
              "    </g>\n",
              "</svg>\n",
              "  </button>\n",
              "\n",
              "<style>\n",
              "  .colab-df-quickchart {\n",
              "      --bg-color: #E8F0FE;\n",
              "      --fill-color: #1967D2;\n",
              "      --hover-bg-color: #E2EBFA;\n",
              "      --hover-fill-color: #174EA6;\n",
              "      --disabled-fill-color: #AAA;\n",
              "      --disabled-bg-color: #DDD;\n",
              "  }\n",
              "\n",
              "  [theme=dark] .colab-df-quickchart {\n",
              "      --bg-color: #3B4455;\n",
              "      --fill-color: #D2E3FC;\n",
              "      --hover-bg-color: #434B5C;\n",
              "      --hover-fill-color: #FFFFFF;\n",
              "      --disabled-bg-color: #3B4455;\n",
              "      --disabled-fill-color: #666;\n",
              "  }\n",
              "\n",
              "  .colab-df-quickchart {\n",
              "    background-color: var(--bg-color);\n",
              "    border: none;\n",
              "    border-radius: 50%;\n",
              "    cursor: pointer;\n",
              "    display: none;\n",
              "    fill: var(--fill-color);\n",
              "    height: 32px;\n",
              "    padding: 0;\n",
              "    width: 32px;\n",
              "  }\n",
              "\n",
              "  .colab-df-quickchart:hover {\n",
              "    background-color: var(--hover-bg-color);\n",
              "    box-shadow: 0 1px 2px rgba(60, 64, 67, 0.3), 0 1px 3px 1px rgba(60, 64, 67, 0.15);\n",
              "    fill: var(--button-hover-fill-color);\n",
              "  }\n",
              "\n",
              "  .colab-df-quickchart-complete:disabled,\n",
              "  .colab-df-quickchart-complete:disabled:hover {\n",
              "    background-color: var(--disabled-bg-color);\n",
              "    fill: var(--disabled-fill-color);\n",
              "    box-shadow: none;\n",
              "  }\n",
              "\n",
              "  .colab-df-spinner {\n",
              "    border: 2px solid var(--fill-color);\n",
              "    border-color: transparent;\n",
              "    border-bottom-color: var(--fill-color);\n",
              "    animation:\n",
              "      spin 1s steps(1) infinite;\n",
              "  }\n",
              "\n",
              "  @keyframes spin {\n",
              "    0% {\n",
              "      border-color: transparent;\n",
              "      border-bottom-color: var(--fill-color);\n",
              "      border-left-color: var(--fill-color);\n",
              "    }\n",
              "    20% {\n",
              "      border-color: transparent;\n",
              "      border-left-color: var(--fill-color);\n",
              "      border-top-color: var(--fill-color);\n",
              "    }\n",
              "    30% {\n",
              "      border-color: transparent;\n",
              "      border-left-color: var(--fill-color);\n",
              "      border-top-color: var(--fill-color);\n",
              "      border-right-color: var(--fill-color);\n",
              "    }\n",
              "    40% {\n",
              "      border-color: transparent;\n",
              "      border-right-color: var(--fill-color);\n",
              "      border-top-color: var(--fill-color);\n",
              "    }\n",
              "    60% {\n",
              "      border-color: transparent;\n",
              "      border-right-color: var(--fill-color);\n",
              "    }\n",
              "    80% {\n",
              "      border-color: transparent;\n",
              "      border-right-color: var(--fill-color);\n",
              "      border-bottom-color: var(--fill-color);\n",
              "    }\n",
              "    90% {\n",
              "      border-color: transparent;\n",
              "      border-bottom-color: var(--fill-color);\n",
              "    }\n",
              "  }\n",
              "</style>\n",
              "\n",
              "  <script>\n",
              "    async function quickchart(key) {\n",
              "      const quickchartButtonEl =\n",
              "        document.querySelector('#' + key + ' button');\n",
              "      quickchartButtonEl.disabled = true;  // To prevent multiple clicks.\n",
              "      quickchartButtonEl.classList.add('colab-df-spinner');\n",
              "      try {\n",
              "        const charts = await google.colab.kernel.invokeFunction(\n",
              "            'suggestCharts', [key], {});\n",
              "      } catch (error) {\n",
              "        console.error('Error during call to suggestCharts:', error);\n",
              "      }\n",
              "      quickchartButtonEl.classList.remove('colab-df-spinner');\n",
              "      quickchartButtonEl.classList.add('colab-df-quickchart-complete');\n",
              "    }\n",
              "    (() => {\n",
              "      let quickchartButtonEl =\n",
              "        document.querySelector('#df-a13ec948-7984-4b21-b421-0185dd6fc215 button');\n",
              "      quickchartButtonEl.style.display =\n",
              "        google.colab.kernel.accessAllowed ? 'block' : 'none';\n",
              "    })();\n",
              "  </script>\n",
              "</div>\n",
              "\n",
              "  <div id=\"id_d021a360-b59b-4442-bc37-ce77a33a9a07\">\n",
              "    <style>\n",
              "      .colab-df-generate {\n",
              "        background-color: #E8F0FE;\n",
              "        border: none;\n",
              "        border-radius: 50%;\n",
              "        cursor: pointer;\n",
              "        display: none;\n",
              "        fill: #1967D2;\n",
              "        height: 32px;\n",
              "        padding: 0 0 0 0;\n",
              "        width: 32px;\n",
              "      }\n",
              "\n",
              "      .colab-df-generate:hover {\n",
              "        background-color: #E2EBFA;\n",
              "        box-shadow: 0px 1px 2px rgba(60, 64, 67, 0.3), 0px 1px 3px 1px rgba(60, 64, 67, 0.15);\n",
              "        fill: #174EA6;\n",
              "      }\n",
              "\n",
              "      [theme=dark] .colab-df-generate {\n",
              "        background-color: #3B4455;\n",
              "        fill: #D2E3FC;\n",
              "      }\n",
              "\n",
              "      [theme=dark] .colab-df-generate:hover {\n",
              "        background-color: #434B5C;\n",
              "        box-shadow: 0px 1px 3px 1px rgba(0, 0, 0, 0.15);\n",
              "        filter: drop-shadow(0px 1px 2px rgba(0, 0, 0, 0.3));\n",
              "        fill: #FFFFFF;\n",
              "      }\n",
              "    </style>\n",
              "    <button class=\"colab-df-generate\" onclick=\"generateWithVariable('dados')\"\n",
              "            title=\"Generate code using this dataframe.\"\n",
              "            style=\"display:none;\">\n",
              "\n",
              "  <svg xmlns=\"http://www.w3.org/2000/svg\" height=\"24px\"viewBox=\"0 0 24 24\"\n",
              "       width=\"24px\">\n",
              "    <path d=\"M7,19H8.4L18.45,9,17,7.55,7,17.6ZM5,21V16.75L18.45,3.32a2,2,0,0,1,2.83,0l1.4,1.43a1.91,1.91,0,0,1,.58,1.4,1.91,1.91,0,0,1-.58,1.4L9.25,21ZM18.45,9,17,7.55Zm-12,3A5.31,5.31,0,0,0,4.9,8.1,5.31,5.31,0,0,0,1,6.5,5.31,5.31,0,0,0,4.9,4.9,5.31,5.31,0,0,0,6.5,1,5.31,5.31,0,0,0,8.1,4.9,5.31,5.31,0,0,0,12,6.5,5.46,5.46,0,0,0,6.5,12Z\"/>\n",
              "  </svg>\n",
              "    </button>\n",
              "    <script>\n",
              "      (() => {\n",
              "      const buttonEl =\n",
              "        document.querySelector('#id_d021a360-b59b-4442-bc37-ce77a33a9a07 button.colab-df-generate');\n",
              "      buttonEl.style.display =\n",
              "        google.colab.kernel.accessAllowed ? 'block' : 'none';\n",
              "\n",
              "      buttonEl.onclick = () => {\n",
              "        google.colab.notebook.generateWithVariable('dados');\n",
              "      }\n",
              "      })();\n",
              "    </script>\n",
              "  </div>\n",
              "\n",
              "    </div>\n",
              "  </div>\n"
            ]
          },
          "metadata": {},
          "execution_count": 3
        }
      ]
    },
    {
      "cell_type": "code",
      "source": [
        "x = dados.drop('inadimplente', axis =1)\n",
        "y = dados['inadimplente']"
      ],
      "metadata": {
        "id": "NKbv-w-3leuU"
      },
      "execution_count": 4,
      "outputs": []
    },
    {
      "cell_type": "code",
      "source": [
        "from sklearn.tree import DecisionTreeClassifier"
      ],
      "metadata": {
        "id": "FTipCyhPmQX2"
      },
      "execution_count": 5,
      "outputs": []
    },
    {
      "cell_type": "code",
      "source": [
        "modelo = DecisionTreeClassifier()\n",
        "modelo.fit(x, y)\n",
        "modelo.score(x, y)"
      ],
      "metadata": {
        "id": "_lzOsMZamTZr",
        "colab": {
          "base_uri": "https://localhost:8080/"
        },
        "outputId": "9e20ba2a-bf0b-4fa3-8038-e1ee1e0899cd"
      },
      "execution_count": 6,
      "outputs": [
        {
          "output_type": "execute_result",
          "data": {
            "text/plain": [
              "1.0"
            ]
          },
          "metadata": {},
          "execution_count": 6
        }
      ]
    },
    {
      "cell_type": "code",
      "source": [
        "print(f'Acurácia: {modelo.score(x,y)}')"
      ],
      "metadata": {
        "id": "D1j60eFOeY4-",
        "colab": {
          "base_uri": "https://localhost:8080/"
        },
        "outputId": "fd4087da-0642-4c94-aa9c-4419a629e9be"
      },
      "execution_count": 7,
      "outputs": [
        {
          "output_type": "stream",
          "name": "stdout",
          "text": [
            "Acurácia: 1.0\n"
          ]
        }
      ]
    },
    {
      "cell_type": "markdown",
      "source": [
        "### Validando o modelo"
      ],
      "metadata": {
        "id": "EPrFcm39oAof"
      }
    },
    {
      "cell_type": "markdown",
      "source": [
        "Avaliar os modelo com base nos mesmos dados usados no treinamento não é interessante. É preciso que a avaliação seja feita em dados independentes.\n",
        "\n",
        "Avaliar o modelo nos próprios dados de treinamento seria o análogo a entregar uma prova com as questões e o gabarito para uma pessoa e no momento de avaliá-la novamente, entregar uma prova com as mesmas questões e alternativas. É esperado que essa pessoa se sairá bem por já ter visto as respostas e ter decorado o resultado. Isso é diferente de ter aprendido a matéria a partir daquela prova e depois fazer uma prova com conteúdo parecido e ter um resultado positivo.\n",
        "\n",
        "No intuito de checar a generalização de um modelo, devemos separar o conjunto de dados em 3 partes: dados de treinamento, validação e teste.\n",
        "\n",
        "- o conjunto de treinamento é utilizado para treinar os modelos. Os modelos vão entender o padrão dos dados a partir desse conjunto de dados.\n",
        "\n",
        "- o conjunto de validação é utilizado para avaliar o desempenho de diferentes modelos, com dados novos que não foram usados no treinamento do modelo.\n",
        "\n",
        "- o conjunto de teste fica separado dos demais desde o momento inicial para simular os dados do mundo real. Ele não é utilizado em nenhum momento no treinamento e nem na validação, servindo como uma estimativa da capacidade do modelo escolhido de generalizar e prever novos dados."
      ],
      "metadata": {
        "id": "v0u-uij9eNcD"
      }
    },
    {
      "cell_type": "markdown",
      "source": [
        "![2023-07-17_10-06.png](data:image/png;base64,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)"
      ],
      "metadata": {
        "id": "eXJdrBEzhfvU"
      }
    },
    {
      "cell_type": "code",
      "source": [
        "from sklearn.model_selection import train_test_split"
      ],
      "metadata": {
        "id": "1qkOo7A1b8ab"
      },
      "execution_count": 8,
      "outputs": []
    },
    {
      "cell_type": "code",
      "source": [
        "x, x_teste, y, y_teste = train_test_split(x, y, test_size = 0.15, stratify = y, random_state = 5)\n",
        "x_treino, x_val, y_treino, y_val = train_test_split(x, y, stratify = y, random_state = 5)"
      ],
      "metadata": {
        "id": "fBpiCEIeb8KM"
      },
      "execution_count": 9,
      "outputs": []
    },
    {
      "cell_type": "code",
      "source": [
        "modelo = DecisionTreeClassifier()\n",
        "modelo.fit(x_treino, y_treino)\n",
        "print(f'Acurácia de treino: {modelo.score(x_treino, y_treino)}')\n",
        "print(f'Acurácia de validação: {modelo.score(x_val, y_val)}')"
      ],
      "metadata": {
        "colab": {
          "base_uri": "https://localhost:8080/"
        },
        "id": "6X2rUAI-b8Hj",
        "outputId": "03579321-92e2-4cc1-dede-757bb0c72b6b"
      },
      "execution_count": 10,
      "outputs": [
        {
          "output_type": "stream",
          "name": "stdout",
          "text": [
            "Acurácia de treino: 1.0\n",
            "Acurácia de validação: 0.8497517637836426\n"
          ]
        }
      ]
    },
    {
      "cell_type": "code",
      "source": [
        "modelo = DecisionTreeClassifier(max_depth = 10)\n",
        "modelo.fit(x_treino, y_treino)\n",
        "print(f'Acurácia de treino: {modelo.score(x_treino, y_treino)}')\n",
        "print(f'Acurácia de validação: {modelo.score(x_val, y_val)}')"
      ],
      "metadata": {
        "colab": {
          "base_uri": "https://localhost:8080/"
        },
        "id": "Hj6UaiqGb8Ey",
        "outputId": "13ee0322-31ee-4f0f-c603-9693a7fc5783"
      },
      "execution_count": 11,
      "outputs": [
        {
          "output_type": "stream",
          "name": "stdout",
          "text": [
            "Acurácia de treino: 0.9205865272938444\n",
            "Acurácia de validação: 0.9059315390645414\n"
          ]
        }
      ]
    },
    {
      "cell_type": "markdown",
      "source": [
        "### Avaliando o modelo"
      ],
      "metadata": {
        "id": "WtlRAZt96VLG"
      }
    },
    {
      "cell_type": "code",
      "source": [
        "from sklearn.metrics import confusion_matrix"
      ],
      "metadata": {
        "id": "jLWz6YezJ6Aw"
      },
      "execution_count": 12,
      "outputs": []
    },
    {
      "cell_type": "code",
      "source": [
        "y_previsto = modelo.predict(x_val)\n",
        "matriz_confusao = confusion_matrix(y_val, y_previsto)\n",
        "print(matriz_confusao)"
      ],
      "metadata": {
        "colab": {
          "base_uri": "https://localhost:8080/"
        },
        "id": "uK6Pmy8cJTt4",
        "outputId": "0fe4fe4e-f7a8-4835-c27a-45ec6dc1c031"
      },
      "execution_count": 13,
      "outputs": [
        {
          "output_type": "stream",
          "name": "stdout",
          "text": [
            "[[10361   118]\n",
            " [  962    40]]\n"
          ]
        }
      ]
    },
    {
      "cell_type": "code",
      "source": [
        "from sklearn.metrics import ConfusionMatrixDisplay"
      ],
      "metadata": {
        "id": "K0MADbvLK-If"
      },
      "execution_count": 14,
      "outputs": []
    },
    {
      "cell_type": "code",
      "source": [
        "visualizacao = ConfusionMatrixDisplay(confusion_matrix = matriz_confusao)\n",
        "visualizacao.plot();"
      ],
      "metadata": {
        "colab": {
          "base_uri": "https://localhost:8080/",
          "height": 449
        },
        "id": "cZEo2CkwLEEM",
        "outputId": "ebe234c1-09ec-443a-c228-c2405b371fa8"
      },
      "execution_count": 15,
      "outputs": [
        {
          "output_type": "display_data",
          "data": {
            "text/plain": [
              "<Figure size 640x480 with 2 Axes>"
            ],
            "image/png": "[encoded data removed]"
          },
          "metadata": {}
        }
      ]
    },
    {
      "cell_type": "code",
      "source": [
        "visualizacao = ConfusionMatrixDisplay(confusion_matrix = matriz_confusao, display_labels=['Adimplente', 'Inadimplente'])\n",
        "visualizacao.plot();"
      ],
      "metadata": {
        "colab": {
          "base_uri": "https://localhost:8080/",
          "height": 449
        },
        "id": "STbyY_obNR39",
        "outputId": "08547c84-ff02-4dc3-9898-a95e3c291a6e"
      },
      "execution_count": 16,
      "outputs": [
        {
          "output_type": "display_data",
          "data": {
            "text/plain": [
              "<Figure size 640x480 with 2 Axes>"
            ],
            "image/png": "[encoded data removed]"
          },
          "metadata": {}
        }
      ]
    },
    {
      "cell_type": "markdown",
      "source": [
        "## <font color='dark'>Métricas de avaliação</h1>"
      ],
      "metadata": {
        "id": "tPogL-24ntSH"
      }
    },
    {
      "cell_type": "markdown",
      "source": [
        "### Acurácia, precisão e recall"
      ],
      "metadata": {
        "id": "nP1WfyyR6XMl"
      }
    },
    {
      "cell_type": "markdown",
      "source": [
        "![2023-07-20_10-56.png](data:image/png;base64,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)"
      ],
      "metadata": {
        "id": "cG_7fqP8RV8o"
      }
    },
    {
      "cell_type": "code",
      "source": [
        "from sklearn.metrics import accuracy_score"
      ],
      "metadata": {
        "id": "4us5fROtW679"
      },
      "execution_count": 17,
      "outputs": []
    },
    {
      "cell_type": "code",
      "source": [
        "print(f'Acurácia: {accuracy_score(y_val, y_previsto)}')"
      ],
      "metadata": {
        "id": "Sk3AOGFkXJiv",
        "colab": {
          "base_uri": "https://localhost:8080/"
        },
        "outputId": "043b2580-3931-4238-d31b-c5eb56a0e06d"
      },
      "execution_count": 18,
      "outputs": [
        {
          "output_type": "stream",
          "name": "stdout",
          "text": [
            "Acurácia: 0.9059315390645414\n"
          ]
        }
      ]
    },
    {
      "cell_type": "code",
      "source": [
        "from sklearn.metrics import precision_score, recall_score"
      ],
      "metadata": {
        "id": "03bwQKj8X6mE"
      },
      "execution_count": 19,
      "outputs": []
    },
    {
      "cell_type": "code",
      "source": [
        "print(f'Precisão: {precision_score(y_val, y_previsto)}')\n",
        "print(f'Revocação: {recall_score(y_val, y_previsto)}')"
      ],
      "metadata": {
        "id": "QvJXQWcjX6d1",
        "colab": {
          "base_uri": "https://localhost:8080/"
        },
        "outputId": "afcca24d-54da-4a34-ccd7-4a602b0b637c"
      },
      "execution_count": 20,
      "outputs": [
        {
          "output_type": "stream",
          "name": "stdout",
          "text": [
            "Precisão: 0.25316455696202533\n",
            "Revocação: 0.03992015968063872\n"
          ]
        }
      ]
    },
    {
      "cell_type": "code",
      "source": [
        "from sklearn.metrics import f1_score"
      ],
      "metadata": {
        "id": "kZrymW3TY9Tr"
      },
      "execution_count": 21,
      "outputs": []
    },
    {
      "cell_type": "code",
      "source": [
        "print(f'F1-score: {f1_score(y_val, y_previsto)}')"
      ],
      "metadata": {
        "id": "1FNzZKlUY7Rk",
        "colab": {
          "base_uri": "https://localhost:8080/"
        },
        "outputId": "e0b983db-239e-4661-dd27-43b5803ac781"
      },
      "execution_count": 22,
      "outputs": [
        {
          "output_type": "stream",
          "name": "stdout",
          "text": [
            "F1-score: 0.06896551724137931\n"
          ]
        }
      ]
    },
    {
      "cell_type": "markdown",
      "source": [
        "### Curva ROC"
      ],
      "metadata": {
        "id": "I8ELhexg2jNx"
      }
    },
    {
      "cell_type": "code",
      "source": [
        "from sklearn.metrics import RocCurveDisplay"
      ],
      "metadata": {
        "id": "5kGiHV4Lh4uQ"
      },
      "execution_count": 23,
      "outputs": []
    },
    {
      "cell_type": "code",
      "source": [
        "RocCurveDisplay.from_predictions(y_val, y_previsto, name = 'Árvore de Decisão');"
      ],
      "metadata": {
        "colab": {
          "base_uri": "https://localhost:8080/",
          "height": 449
        },
        "id": "6mDy2_Ehh4qR",
        "outputId": "1a0e7fdc-d913-485c-c1b1-14a7e9938ea3"
      },
      "execution_count": 24,
      "outputs": [
        {
          "output_type": "display_data",
          "data": {
            "text/plain": [
              "<Figure size 640x480 with 1 Axes>"
            ],
            "image/png": "[encoded data removed]"
          },
          "metadata": {}
        }
      ]
    },
    {
      "cell_type": "code",
      "source": [
        "from sklearn.metrics import roc_auc_score"
      ],
      "metadata": {
        "id": "Pa-WzqKoh4fw"
      },
      "execution_count": 25,
      "outputs": []
    },
    {
      "cell_type": "code",
      "source": [
        "print(f'AUC: {roc_auc_score(y_val, y_previsto)}')"
      ],
      "metadata": {
        "colab": {
          "base_uri": "https://localhost:8080/"
        },
        "id": "kEdKl9lJh4Y5",
        "outputId": "1afaa544-311c-4a11-c4b7-98ada66cc0f5"
      },
      "execution_count": 26,
      "outputs": [
        {
          "output_type": "stream",
          "name": "stdout",
          "text": [
            "AUC: 0.5143297716048006\n"
          ]
        }
      ]
    },
    {
      "cell_type": "markdown",
      "source": [
        "### Curva de precisão x recall"
      ],
      "metadata": {
        "id": "IztSEZfh7QFe"
      }
    },
    {
      "cell_type": "code",
      "source": [
        "from sklearn.metrics import PrecisionRecallDisplay"
      ],
      "metadata": {
        "id": "9CMejhVNl9cN"
      },
      "execution_count": 27,
      "outputs": []
    },
    {
      "cell_type": "code",
      "source": [
        "PrecisionRecallDisplay.from_predictions(y_val, y_previsto, name = 'Árvore de decisão');"
      ],
      "metadata": {
        "colab": {
          "base_uri": "https://localhost:8080/",
          "height": 449
        },
        "id": "w9Tcqr66l9Xt",
        "outputId": "2677df69-5167-46e6-b286-4a25d516dbc9"
      },
      "execution_count": 28,
      "outputs": [
        {
          "output_type": "display_data",
          "data": {
            "text/plain": [
              "<Figure size 640x480 with 1 Axes>"
            ],
            "image/png": "[encoded data removed]"
          },
          "metadata": {}
        }
      ]
    },
    {
      "cell_type": "code",
      "source": [
        "from sklearn.metrics import average_precision_score"
      ],
      "metadata": {
        "id": "U9UeVUIJl9QV"
      },
      "execution_count": 29,
      "outputs": []
    },
    {
      "cell_type": "code",
      "source": [
        "print(f'AP: {average_precision_score(y_val, y_previsto)}')"
      ],
      "metadata": {
        "colab": {
          "base_uri": "https://localhost:8080/"
        },
        "id": "sPO_yxdyl9GF",
        "outputId": "850a7049-39a3-4698-c001-76007fc30741"
      },
      "execution_count": 30,
      "outputs": [
        {
          "output_type": "stream",
          "name": "stdout",
          "text": [
            "AP: 0.09389698011339402\n"
          ]
        }
      ]
    },
    {
      "cell_type": "markdown",
      "source": [
        "### Relatório de métricas"
      ],
      "metadata": {
        "id": "Bm2E6GEJDJLH"
      }
    },
    {
      "cell_type": "code",
      "source": [
        "from sklearn.metrics import classification_report"
      ],
      "metadata": {
        "id": "w2RYB-J6oeIs"
      },
      "execution_count": 31,
      "outputs": []
    },
    {
      "cell_type": "code",
      "source": [
        "print(classification_report(y_val, y_previsto))"
      ],
      "metadata": {
        "colab": {
          "base_uri": "https://localhost:8080/"
        },
        "id": "uNGGdgAToeCD",
        "outputId": "84f4b821-e5d3-416f-8b39-68ac138df780"
      },
      "execution_count": 32,
      "outputs": [
        {
          "output_type": "stream",
          "name": "stdout",
          "text": [
            "              precision    recall  f1-score   support\n",
            "\n",
            "           0       0.92      0.99      0.95     10479\n",
            "           1       0.25      0.04      0.07      1002\n",
            "\n",
            "    accuracy                           0.91     11481\n",
            "   macro avg       0.58      0.51      0.51     11481\n",
            "weighted avg       0.86      0.91      0.87     11481\n",
            "\n"
          ]
        }
      ]
    },
    {
      "cell_type": "markdown",
      "source": [
        "## <font color='dark'>Validação cruzada</h1>"
      ],
      "metadata": {
        "id": "SuxCy_oZZQxE"
      }
    },
    {
      "cell_type": "markdown",
      "source": [
        "### Usando o KFold"
      ],
      "metadata": {
        "id": "17q2T0iRnzSg"
      }
    },
    {
      "cell_type": "markdown",
      "source": [
        "A validação do modelo de classificação a partir da separação dos dados em conjunto de treino e validação faz com que o resultado seja muito dependente dessa divisão dos dados e pode ser que, de forma aleatória, o padrão dos dados de validação sejam diferentes do padrão dos dados de treinamento, levando a sorte de ter um resultado muito melhor do que a realidade ou o azar de um resultado muito pior do que a realidade.\n",
        "\n",
        "Levando isso em consideração, é possível utilizar a **validação cruzada**, uma estratégia mais consistente e bem mais utilizada nos projetos de machine learning.\n",
        "\n",
        "Na validação cruzada, ao invés de separarmos os dados em apenas treino e validação uma única vez, dividimos os dados em várias partes de mesmo tamanho. Em cada uma dessas divisões, será utilizada uma parte para validação e todas as outras para treinamento e o processo se repete até que todas as partes sejam utilizadas para validação e o restante para treinamento.\n",
        "\n",
        "Será gerado um modelo para cada uma dessas divisões e a avaliação de desempenho será feita tirando a média da métrica de cada modelo. Isso faz com que a dependência da separação dos dados seja eliminada, já que há uma variação maior da escolha dos dados e é retirada uma média.\n",
        "\n",
        "Geralmente são utilizadas 5 ou 10 partes, mais do que isso não é tão necessário porque necessita de um processamento maior e valores menores já mitiga o problema da escolha dos dados."
      ],
      "metadata": {
        "id": "zjfYnDWJ6C2A"
      }
    },
    {
      "cell_type": "markdown",
      "source": [
        "![2023-07-17_12-39.png](data:image/png;base64,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)"
      ],
      "metadata": {
        "id": "rIs5ok_qgfBH"
      }
    },
    {
      "cell_type": "code",
      "source": [
        "from sklearn.model_selection import cross_validate, KFold"
      ],
      "metadata": {
        "id": "HI5t_g4ZCr8_"
      },
      "execution_count": 33,
      "outputs": []
    },
    {
      "cell_type": "code",
      "source": [
        "modelo = DecisionTreeClassifier(max_depth = 10)\n",
        "kf = KFold(n_splits = 5, shuffle = True, random_state = 5)\n",
        "cv_resultados = cross_validate(modelo, x, y, cv = kf)\n",
        "cv_resultados"
      ],
      "metadata": {
        "colab": {
          "base_uri": "https://localhost:8080/"
        },
        "id": "LHcanKGWCrmW",
        "outputId": "8ffd0fd0-2060-440e-df82-387ea5264f3f"
      },
      "execution_count": 34,
      "outputs": [
        {
          "output_type": "execute_result",
          "data": {
            "text/plain": [
              "{'fit_time': array([0.25184178, 0.23494983, 0.23599648, 0.21906376, 0.21921206]),\n",
              " 'score_time': array([0.00496483, 0.00723314, 0.00456762, 0.0046773 , 0.00426507]),\n",
              " 'test_score': array([0.91322809, 0.90788328, 0.90744774, 0.9135453 , 0.8997169 ])}"
            ]
          },
          "metadata": {},
          "execution_count": 34
        }
      ]
    },
    {
      "cell_type": "code",
      "source": [
        "cv_resultados['test_score']"
      ],
      "metadata": {
        "id": "N6bJBNR0fPc_",
        "colab": {
          "base_uri": "https://localhost:8080/"
        },
        "outputId": "5c440447-f077-4c48-ef93-0624f97d1101"
      },
      "execution_count": 35,
      "outputs": [
        {
          "output_type": "execute_result",
          "data": {
            "text/plain": [
              "array([0.91322809, 0.90788328, 0.90744774, 0.9135453 , 0.8997169 ])"
            ]
          },
          "metadata": {},
          "execution_count": 35
        }
      ]
    },
    {
      "cell_type": "code",
      "source": [
        "media = cv_resultados['test_score'].mean()\n",
        "desvio_padrao = cv_resultados['test_score'].std()\n",
        "print(f'Intervalo de confiança: [{media - 2*desvio_padrao}, {min(media + 2*desvio_padrao, 1)}]')"
      ],
      "metadata": {
        "colab": {
          "base_uri": "https://localhost:8080/"
        },
        "id": "y2-ajx-t8duB",
        "outputId": "ff6770e6-a737-4375-b64e-5dbedbfc837e"
      },
      "execution_count": 36,
      "outputs": [
        {
          "output_type": "stream",
          "name": "stdout",
          "text": [
            "Intervalo de confiança: [0.8983104760768333, 0.9184180418635292]\n"
          ]
        }
      ]
    },
    {
      "cell_type": "markdown",
      "source": [
        "### Validação cruzada com recall"
      ],
      "metadata": {
        "id": "GAHrtLM2OCjO"
      }
    },
    {
      "cell_type": "code",
      "source": [
        "def intervalo_conf(resultados):\n",
        "    media = resultados['test_score'].mean()\n",
        "    desvio_padrao = resultados['test_score'].std()\n",
        "    print(f'Intervalo de confiança: [{media - 2*desvio_padrao}, {min(media + 2*desvio_padrao, 1)}]')"
      ],
      "metadata": {
        "id": "2VakWx0n1MKV"
      },
      "execution_count": 37,
      "outputs": []
    },
    {
      "cell_type": "code",
      "source": [
        "modelo = DecisionTreeClassifier(max_depth = 10)\n",
        "kf = KFold(n_splits = 5, shuffle = True, random_state = 5)\n",
        "cv_resultados = cross_validate(modelo, x, y, cv = kf, scoring = 'recall')\n",
        "cv_resultados"
      ],
      "metadata": {
        "colab": {
          "base_uri": "https://localhost:8080/"
        },
        "id": "jaw4k0ZzbMVz",
        "outputId": "17d83e1d-9ed3-408d-db53-e94d4a0318fa"
      },
      "execution_count": 38,
      "outputs": [
        {
          "output_type": "execute_result",
          "data": {
            "text/plain": [
              "{'fit_time': array([0.23680544, 0.23218346, 0.21678376, 0.21693158, 0.22213507]),\n",
              " 'score_time': array([0.00752211, 0.00976825, 0.00723457, 0.0094552 , 0.00696301]),\n",
              " 'test_score': array([0.02509908, 0.01980198, 0.0196802 , 0.01436031, 0.02312139])}"
            ]
          },
          "metadata": {},
          "execution_count": 38
        }
      ]
    },
    {
      "cell_type": "code",
      "source": [
        "intervalo_conf(cv_resultados)"
      ],
      "metadata": {
        "colab": {
          "base_uri": "https://localhost:8080/"
        },
        "id": "fH7jDC5W87ko",
        "outputId": "f0a9eb40-a3ef-464a-9cfe-05c6eee4b85a"
      },
      "execution_count": 39,
      "outputs": [
        {
          "output_type": "stream",
          "name": "stdout",
          "text": [
            "Intervalo de confiança: [0.01310013411922558, 0.027725047039325462]\n"
          ]
        }
      ]
    },
    {
      "cell_type": "markdown",
      "source": [
        "### Estratificando os dados"
      ],
      "metadata": {
        "id": "-FAOYtNen4qJ"
      }
    },
    {
      "cell_type": "code",
      "source": [
        "dados['inadimplente'].value_counts(normalize = True)"
      ],
      "metadata": {
        "colab": {
          "base_uri": "https://localhost:8080/"
        },
        "id": "gM97JcMnf1es",
        "outputId": "a5f8899f-bce0-4e42-e19b-6c15fbff8ff3"
      },
      "execution_count": 40,
      "outputs": [
        {
          "output_type": "execute_result",
          "data": {
            "text/plain": [
              "0    0.912707\n",
              "1    0.087293\n",
              "Name: inadimplente, dtype: float64"
            ]
          },
          "metadata": {},
          "execution_count": 40
        }
      ]
    },
    {
      "cell_type": "code",
      "source": [
        "from sklearn.model_selection import StratifiedKFold"
      ],
      "metadata": {
        "id": "HJukScSDXznL"
      },
      "execution_count": 41,
      "outputs": []
    },
    {
      "cell_type": "code",
      "source": [
        "modelo = DecisionTreeClassifier(max_depth = 10)\n",
        "skf = StratifiedKFold(n_splits = 5, shuffle = True, random_state = 5)\n",
        "cv_resultados = cross_validate(modelo, x, y, cv = skf, scoring = 'recall')"
      ],
      "metadata": {
        "id": "i2M6ed1pX03u"
      },
      "execution_count": 42,
      "outputs": []
    },
    {
      "cell_type": "code",
      "source": [
        "intervalo_conf(cv_resultados)"
      ],
      "metadata": {
        "colab": {
          "base_uri": "https://localhost:8080/"
        },
        "id": "aebebLqLlQ4R",
        "outputId": "5ade57fa-36b6-48fa-a16c-d0dbbed41e22"
      },
      "execution_count": 43,
      "outputs": [
        {
          "output_type": "stream",
          "name": "stdout",
          "text": [
            "Intervalo de confiança: [0.021586425818664635, 0.03777889371645512]\n"
          ]
        }
      ]
    },
    {
      "cell_type": "markdown",
      "source": [
        "## <font color='dark'>Balanceamento de dados</h1>"
      ],
      "metadata": {
        "id": "yaVwNb1kn8sX"
      }
    },
    {
      "cell_type": "markdown",
      "source": [
        "### Oversampling"
      ],
      "metadata": {
        "id": "4eYKxWJd6g6w"
      }
    },
    {
      "cell_type": "code",
      "source": [
        "from imblearn.over_sampling import SMOTE"
      ],
      "metadata": {
        "id": "VStv1tnAnqAV"
      },
      "execution_count": 44,
      "outputs": []
    },
    {
      "cell_type": "code",
      "source": [
        "oversample = SMOTE()\n",
        "x_balanceado, y_balanceado = oversample.fit_resample(x, y)"
      ],
      "metadata": {
        "id": "VOo9x6eh-D1t"
      },
      "execution_count": 45,
      "outputs": []
    },
    {
      "cell_type": "code",
      "source": [
        "y_balanceado.value_counts(normalize = True)"
      ],
      "metadata": {
        "colab": {
          "base_uri": "https://localhost:8080/"
        },
        "id": "zbrhqxA8-XXJ",
        "outputId": "414a6ce4-2809-4d54-d42d-b922ce5dcc87"
      },
      "execution_count": 46,
      "outputs": [
        {
          "output_type": "execute_result",
          "data": {
            "text/plain": [
              "0    0.5\n",
              "1    0.5\n",
              "Name: inadimplente, dtype: float64"
            ]
          },
          "metadata": {},
          "execution_count": 46
        }
      ]
    },
    {
      "cell_type": "code",
      "source": [
        "modelo = DecisionTreeClassifier(max_depth = 10)\n",
        "skf = StratifiedKFold(n_splits = 5, shuffle = True, random_state = 5)\n",
        "cv_resultados = cross_validate(modelo, x_balanceado, y_balanceado, cv = skf, scoring = 'recall')"
      ],
      "metadata": {
        "id": "rRjeYuyf_fSa"
      },
      "execution_count": 47,
      "outputs": []
    },
    {
      "cell_type": "code",
      "source": [
        "intervalo_conf(cv_resultados)"
      ],
      "metadata": {
        "colab": {
          "base_uri": "https://localhost:8080/"
        },
        "id": "VfAHhYdxAE2h",
        "outputId": "270b09dc-3664-414a-d79d-d67592b835dc"
      },
      "execution_count": 48,
      "outputs": [
        {
          "output_type": "stream",
          "name": "stdout",
          "text": [
            "Intervalo de confiança: [0.700884888126229, 0.7492002380222839]\n"
          ]
        }
      ]
    },
    {
      "cell_type": "markdown",
      "source": [
        "### Pipeline para validação"
      ],
      "metadata": {
        "id": "fHSNXznm6ia-"
      }
    },
    {
      "cell_type": "markdown",
      "source": [
        "Nós utilizamos uma estratégia para balancear nossos dados com base na variável alvo de clientes inadimplentes. Contudo, o processo de validação cruzada está sendo realizado em dados balanceados. Isso representa um problema, já que os dados do mundo real não são balanceados.\n",
        "\n",
        "Essa estratégia deve ser aplicada somente para o modelo aprender o padrão dos dados. No momento de avaliar esse modelo, para verificar se está ou não acertando, precisamos avaliar em dados desbalanceados.\n",
        "\n",
        "Então, como podemos implementar o processo de balanceamento de dados em conjunto com a validação cruzada?\n",
        "\n",
        "Vamos precisar utilizar um pipeline de dados. Um pipeline é uma sequência de transformações, operações que realizamos nos dados.\n",
        "\n",
        "Queremos colocar o processo de transformação do oversampling em conjunto ao modelo. Dessa forma, quando passarmos esse pipeline para validação cruzada, primeiramente será feita a separação dos dados e, em cada conjunto de dados que foi separado para validação e treinamento, o equilíbrio dos dados será feito somente com base nos respectivos dados.\n",
        "\n",
        "A partir disso, no momento de validar os dados, os dados de validação não estarão balanceados. Eles vão estar na forma como são encontrados no mundo real. Assim, teremos uma validação correta, avaliando o desempenho dos dados que funcionam como o mundo real.\n",
        "\n",
        "Pipeline de validação\n",
        "Como construímos esse pipeline? A própria biblioteca imblearn possui uma função para aplicar esse pipeline. Vamos utilizá-la, pois estamos aplicando o processo de oversampling dessa biblioteca.\n",
        "\n",
        "A scikit-learn também tem um método de pipeline, mas não vai funcionar aqui porque os procedimentos de transformação do scikit-learn funcionam de forma um pouco diferente do oversampling da biblioteca imblearn. Logo, vamos utilizar o pipeline dessa biblioteca por conta disso.\n",
        "\n",
        "Na primeira célula, escrevemos from imblearn.pipeline para importar o método Pipeline com a letra \"P\" em maiúscula com o apelido imbpipeline.\n",
        "\n",
        "Com esse apelido, identificamos que utilizaremos o pipeline do imblearn e evitamos confusões em outros projetos que venham a utilizar outros pipelines distintos."
      ],
      "metadata": {
        "id": "LZnTNEBmkIkF"
      }
    },
    {
      "cell_type": "code",
      "source": [
        "from imblearn.pipeline import Pipeline as imbpipeline"
      ],
      "metadata": {
        "id": "gv-Bj63zMGWH"
      },
      "execution_count": 50,
      "outputs": []
    },
    {
      "cell_type": "markdown",
      "source": [
        "over-sampling, por sua vez, consiste em gerar novos exemplos para a classe minoritária, de forma a aumentar sua representatividade no conjunto de dados.\n",
        "\n",
        "Oversampling\n",
        "Para oversampling, utilizaremos o SMOTE, que é uma técnica amplamente utilizada em problemas de classificação em que a classe minoritária é significativamente menor do que a classe majoritária. A técnica funciona selecionando um exemplo da classe minoritária e encontrando os seus k vizinhos mais próximos. Em seguida, ela cria novos exemplos sintéticos interpolando aleatoriamente os atributos dos exemplos selecionados e adicionando-os ao conjunto de dados."
      ],
      "metadata": {
        "id": "Go3yx478l9-_"
      }
    },
    {
      "cell_type": "code",
      "source": [
        "modelo = DecisionTreeClassifier(max_depth = 10)\n",
        "pipeline = imbpipeline([('oversample', SMOTE()), ('arvore', modelo)])"
      ],
      "metadata": {
        "id": "0-opYfA2MRDb"
      },
      "execution_count": 51,
      "outputs": []
    },
    {
      "cell_type": "markdown",
      "source": [
        "Ao executar essa célula já criamos o pipeline. Esse pipeline aplica primeiro o SMOTE nos dados e, em seguida, aplica o modelo.\n",
        "\n",
        "Agora, vamos utilizar o processo de validação cruzada, da mesma forma que já conhecemos, mas, ao invés de passar o modelo, vamos passar o pipeline.\n",
        "\n",
        "Para isso, podemos copiar o trecho de código que utilizamos para inicializar o StratifiedKFold() e o cv_resultados. Em uma célula vazia, vamos colar e fazer uma alteração.\n",
        "\n",
        "Ao invés de colocar o modelo dentro do cross_validate(), passamos o pipeline. E como não estamos utilizando diretamente os dados de x_balanceado e y_balanceado, passamos somente x e y."
      ],
      "metadata": {
        "id": "p4tBkKd7mYnW"
      }
    },
    {
      "cell_type": "code",
      "source": [
        "skf = StratifiedKFold(n_splits = 5, shuffle = True, random_state = 5)\n",
        "cv_resultados = cross_validate(pipeline, x, y, cv = skf, scoring = 'recall')"
      ],
      "metadata": {
        "id": "jt4-KP3AM284"
      },
      "execution_count": 52,
      "outputs": []
    },
    {
      "cell_type": "markdown",
      "source": [
        "Dessa maneira, o pipeline executará primeiro o SMOTE em x e y para cada uma das partições que foi feita no StratifiedKFold. Só depois disso, aplicará o modelo em cada uma dessas partes que estão balanceadas.\n",
        "\n",
        "No processo de validação, será validado em dados não balanceados, ou seja, teremos um resultado mais justo, mais consistente e não tão otimista.\n",
        "\n",
        "Vamos executar essa célula e, na próxima, vamos calcular o intervalo de confiança. Isto é, intervalo_conf(), passando cv_resultados."
      ],
      "metadata": {
        "id": "Ax8NiR1bmmqV"
      }
    },
    {
      "cell_type": "code",
      "source": [
        "intervalo_conf(cv_resultados)"
      ],
      "metadata": {
        "colab": {
          "base_uri": "https://localhost:8080/"
        },
        "id": "gbkT3lejSEsS",
        "outputId": "edba5d1d-4c17-47a1-b2a3-4b26f07d8fab"
      },
      "execution_count": 54,
      "outputs": [
        {
          "output_type": "stream",
          "name": "stdout",
          "text": [
            "Intervalo de confiança: [0.20358958111216832, 0.28729058426714243]\n"
          ]
        }
      ]
    },
    {
      "cell_type": "markdown",
      "source": [
        "Vamos executar a célula para conferir o resultado. Obtivemos um intervalo de confiança de 0.24 a 0.31. Anteriormente, tínhamos um resultado de 0.69 a 0.78, então o resultado caiu bastante apenas por adotarmos um processo mais correto.\n",
        "\n",
        "Ainda que o resultado anterior tenha sido melhor, ele não era correto. Logo, não devemos usar um método só porque ele gera um resultado melhor, mas sim, usar o método que está correto.\n",
        "\n",
        "Aplicando o procedimento de forma correta, obtemos um resultado de recall entre 0.24 e 0.31. Este resultado, comparado ao recall anterior que era de 0.02, representou uma melhora significativa."
      ],
      "metadata": {
        "id": "nzNZQmaom2t8"
      }
    },
    {
      "cell_type": "markdown",
      "source": [
        "### Undersampling"
      ],
      "metadata": {
        "id": "66PlvwjX6kFv"
      }
    },
    {
      "cell_type": "markdown",
      "source": [
        "Nós utilizamos o pipeline para aplicar o processo de oversampling nos nossos dados em conjunto com o processo de validação cruzada. Utilizamos essa estratégia para balancear os dados e obtivemos uma melhora no desempenho de recall do nosso modelo.\n",
        "\n",
        "NearMiss\n",
        "Agora, vamos aplicar outra técnica de balanceamento de dados conhecida como undersampling (subamostragem). Ao invés de aumentar a quantidade de dados da classe que tem menor quantidade, vamos fazer o contrário. Reduziremos a quantidade de dados da classe que tem maior quantidade, até que ela tenha a mesma quantidade de dados que a classe com a menor quantidade.\n",
        "\n",
        "Existe um processo de undersampling aleatório que não utiliza nenhum critério para a remoção dos dados. Ele simplesmente remove dados aleatoriamente da base de dados da classe que tem maior quantidade. Porém, esse processo não é tão recomendado porque pode ser que, durante esse processo, dados importantes para o modelo compreender o padrão dos dados sejam perdidos.\n",
        "\n",
        "Ao invés do undersampling aleatório, vamos aplicar outra técnica de undersampling que se chama NearMiss. Nessa estratégia, há um critério de escolher os elementos que vão continuar na base de dados que tenham um padrão bem parecido com os elementos que já existem na outra classe.\n",
        "\n",
        "Dessa maneira, o modelo tentará identificar, nas nuances dos dados, qual é a diferença de uma classe para a outra. Esse método de undersampling é melhor do que a utilização do undersampling aleatório porque ele utiliza um critério para a seleção dos dados que vão ser mantidos.\n",
        "\n",
        "Esse método NearMiss também está presente na biblioteca imblearn. Portanto, faremos a importação desse método para dentro do nosso código."
      ],
      "metadata": {
        "id": "q19efe6OoZu4"
      }
    },
    {
      "cell_type": "code",
      "source": [
        "from imblearn.under_sampling import NearMiss"
      ],
      "metadata": {
        "id": "Kf4iSq5JdQWZ"
      },
      "execution_count": 55,
      "outputs": []
    },
    {
      "cell_type": "markdown",
      "source": [
        "As letras \"N\" e \"M\" precisam ser escritas em maiúsculo. Vamos executar esse código.\n",
        "\n",
        "Agora que já sabemos que precisamos aplicar o pipeline junto do processo de validação cruzada, não faremos o balanceamento dos dados antes de aplicar o processo de validação cruzada. Vamos colocar isso em um pipeline.\n",
        "\n",
        "Primeiramente, vamos criar o modelo, que é aquele mesmo que já conhecemos. Por isso, vamos copiar o código daquela etapa de criação do modelo e do pipeline. Vamos colar na próxima célula vazia.\n",
        "\n",
        "Vamos utilizar o mesmo modelo, mas dentro do pipeline, ao invés de oversample, escreveremos undersample.\n",
        "\n",
        "E no método SMOTE(), vamos substituir pelo método NearMiss(). Dentro dos parênteses desse método, vamos escolher uma das versões do NearMiss. Vamos escolher a version igual à 3.\n",
        "\n",
        "Essa versão é utilizada para a escolha dos elementos que vão ser mantidos na base de dados. Existem as versões 1, 2 e 3. E se quiser saber mais sobre cada uma das versões, será disponibilizada uma atividade, logo após esse vídeo, para entender como funciona o processo de escolha dos elementos com base na versão."
      ],
      "metadata": {
        "id": "oX0vtEoxruhd"
      }
    },
    {
      "cell_type": "code",
      "source": [
        "modelo = DecisionTreeClassifier(max_depth = 10)\n",
        "pipeline = imbpipeline([('undersample', NearMiss(version = 3)), ('arvore', modelo)])\n",
        "skf = StratifiedKFold(n_splits = 5, shuffle = True, random_state = 5)\n",
        "cv_resultados = cross_validate(pipeline, x, y, cv = skf, scoring = 'recall')"
      ],
      "metadata": {
        "id": "bVJitUK7esCm"
      },
      "execution_count": 56,
      "outputs": []
    },
    {
      "cell_type": "markdown",
      "source": [
        "Nessa mesma célula, depois de escrever o pipeline, vamos copiar o código de escolha do StratifiedKFold() e do cross_validate(). Então, vamos copiar e colar na linha abaixo.\n",
        "\n",
        "Vamos verificar se o processo está sendo feito da forma correta para esse pipeline. Primeiro é utilizado o StratifiedKFold(), separado em cinco partes. E no cross_validate() é utilizado o pipeline, que está sendo construído agora, utilizando o NearMiss e os dados x e y."
      ],
      "metadata": {
        "id": "ljJLmasCr_Nt"
      }
    },
    {
      "cell_type": "code",
      "source": [
        "intervalo_conf(cv_resultados)"
      ],
      "metadata": {
        "colab": {
          "base_uri": "https://localhost:8080/"
        },
        "id": "PZL0R5JgLVaJ",
        "outputId": "cd81c27f-ec4d-4c58-81bd-128ab0fb04ff"
      },
      "execution_count": 57,
      "outputs": [
        {
          "output_type": "stream",
          "name": "stdout",
          "text": [
            "Intervalo de confiança: [0.6262841121798904, 0.7022098837914793]\n"
          ]
        }
      ]
    },
    {
      "cell_type": "markdown",
      "source": [
        "Após executar a célula, obtivemos um intervalo de confiança para o recall de 0.61 até 0.69. Com essa estratégia do undersampling usando o NearMiss, obtivemos um resultado de recall bem melhor tanto do oversampling quanto do modelo inicial que tínhamos.\n",
        "\n",
        "Esse será o modelo que selecionaremos para aplicar em nossos dados."
      ],
      "metadata": {
        "id": "RWqQtuLHsMGT"
      }
    },
    {
      "cell_type": "markdown",
      "source": [
        "### Testando o modelo"
      ],
      "metadata": {
        "id": "EP-44U0eHt-a"
      }
    },
    {
      "cell_type": "markdown",
      "source": [
        "Chegamos na última etapa do nosso projeto para criar um modelo de classificação com o objetivo de identificar clientes inadimplentes em uma empresa de empréstimo de automóveis.\n",
        "\n",
        "Selecionamos o modelo que apresentou o melhor desempenho utilizando a estratégia de undersampling com o algoritmo NearMiss na versão 3. Este algoritmo irá balancear nossos dados e, a partir deles, vamos treinar o modelo com base nos dados para identificar o padrão de cada uma das classes.\n",
        "\n",
        "Após isso, fizemos uma separação do conjunto de dados de teste. Este conjunto é o que vamos utilizar para fazer essa avaliação final. Porque não temos certeza de que nosso modelo está se saindo bem apenas com os dados de validação que utilizamos para fazer a comparação entre os modelos ou se ele também irá performar bem nos dados do mundo real.\n",
        "\n",
        "Por isso, fizemos essa separação justamente para ter essa validação final, essa certeza maior de que ele vai se comportar bem nos dados do mundo real.\n",
        "\n",
        "Testando o modelo\n",
        "Vamos construir as etapas para gerar o modelo nos dados que estão balanceados, e avaliar esse modelo em dados do conjunto de teste, que estão desbalanceados, como são os dados do mundo real.\n",
        "\n",
        "Na primeira célula, vamos inicializar o método do NearMiss(), e depois, fazer o balanceamento da base de dados.\n",
        "\n",
        "Vamos escrever undersample igual à NearMiss(), passando a version igual à 3. Na próxima linha, vamos colocar x_balanceado e y_balanceado igual à undersample.fit_resample(), passando x e y."
      ],
      "metadata": {
        "id": "BOSVjQizuNSF"
      }
    },
    {
      "cell_type": "markdown",
      "source": [
        "Estamos utilizando a base de dados toda de x e y, porque temos uma base de dados separada, que é x_teste e y_teste, que separamos anteriormente. Podemos aplicar o undersampling em todos os dados, pois quanto mais dados, melhor para o entendimento do algoritmo no padrão dos dados.\n",
        "\n",
        "Após aplicar esse balanceamento, podemos iniciar o modelo. Na mesma célula, vamos escrever modelo igual à DecisionTreeClassifier(max_depth = 10). Agora, vamos escrever modelo.fit(), colocando o x_balanceado e o y_balanceado.\n",
        "\n",
        "Na próxima linha, vamos armazenar a previsão do modelo. Para isso, escrevemos y_previsto igual à modelo.predict(x_teste). Assim, o modelo que fez ajuste nos dados balanceados fará uma previsão agora focada nos dados de teste que deixamos separados.\n",
        "\n",
        "Ele vai prever usando as variáveis explicativas do x_teste e vai armazenar no y_previsto.\n",
        "\n",
        "Todo o processo de validação que realizamos com a validação cruzada para entender se o modelo está saindo bem ou não, serve para compararmos os modelos e ir melhorando o desempenho do modelo, mas neste momento final, avaliamos o modelo que escolhemos nos dados de teste que se comportam como o mundo real. Podemos utilizar toda a base de dados x e y para fazer esse treinamento.\n",
        "\n",
        "E, por fim, depois do classification_report(), também vamos mostrar uma matriz de confusão.\n",
        "\n",
        "Ainda na mesma célula, escrevemos ConfusionMatrixDisplay.from_predictions(), passando y_teste e y_previsto. Ao final, acrescentamos ponto e vírgula."
      ],
      "metadata": {
        "id": "iCEpNGuZugDH"
      }
    },
    {
      "cell_type": "code",
      "source": [
        "undersample = NearMiss(version = 3)\n",
        "x_balanceado, y_balanceado = undersample.fit_resample(x, y)\n",
        "\n",
        "modelo = DecisionTreeClassifier(max_depth = 10)\n",
        "modelo.fit(x_balanceado, y_balanceado)\n",
        "y_previsto = modelo.predict(x_teste)\n",
        "\n",
        "print(classification_report(y_teste, y_previsto))\n",
        "ConfusionMatrixDisplay.from_predictions(y_teste, y_previsto);"
      ],
      "metadata": {
        "colab": {
          "base_uri": "https://localhost:8080/",
          "height": 613
        },
        "id": "Ln-axZMIHtW7",
        "outputId": "7fa29565-50fa-429d-f3aa-68375577d86e"
      },
      "execution_count": 59,
      "outputs": [
        {
          "output_type": "stream",
          "name": "stdout",
          "text": [
            "              precision    recall  f1-score   support\n",
            "\n",
            "           0       0.94      0.48      0.64      7397\n",
            "           1       0.11      0.71      0.20       707\n",
            "\n",
            "    accuracy                           0.50      8104\n",
            "   macro avg       0.53      0.59      0.42      8104\n",
            "weighted avg       0.87      0.50      0.60      8104\n",
            "\n"
          ]
        },
        {
          "output_type": "display_data",
          "data": {
            "text/plain": [
              "<Figure size 640x480 with 2 Axes>"
            ],
            "image/png": "[encoded data removed]"
          },
          "metadata": {}
        }
      ]
    },
    {
      "cell_type": "code",
      "source": [],
      "metadata": {
        "id": "I2cO1lduyHY-"
      },
      "execution_count": null,
      "outputs": []
    },
    {
      "cell_type": "markdown",
      "source": [
        "Com isso, temos um relatório das métricas. Note que, nos dados que representam situações semelhantes ao mundo real, que são desbalanceados e não foram utilizados na etapa de aprimoramento e comparação dos modelos, nós obtivemos um recall de 0.70. Agora, conseguimos identificar 494 clientes inadimplentes.\n",
        "\n",
        "Essa etapa final de avaliação é crucial para compreender como nosso modelo se comportará com dados do mundo real. Por isso, foi importante separar os dados de teste desde o início do nosso projeto.\n",
        "\n",
        "Utilizamos a estratégia de undersampling para aprimorar o resultado do nosso modelo, porém existem outras estratégias que podemos aplicar para melhorar seu desempenho.\n",
        "\n",
        "Além disso, a empresa pode avaliar se o modelo construído será colocado em produção para identificar os clientes inadimplentes e evitar um prejuízo considerável."
      ],
      "metadata": {
        "id": "tl1TcgwevBne"
      }
    }
  ]
}